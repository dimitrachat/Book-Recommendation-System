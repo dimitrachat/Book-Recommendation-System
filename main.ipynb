{
 "cells": [
  {
   "cell_type": "code",
   "execution_count": 1,
   "id": "cc52e2a0",
   "metadata": {},
   "outputs": [],
   "source": [
    "import pandas as pd\n",
    "import numpy as np\n",
    "import matplotlib.pyplot as plt\n",
    "from sklearn.neighbors import NearestNeighbors\n",
    "from sklearn.metrics.pairwise import cosine_similarity\n",
    "from sklearn.feature_extraction.text import CountVectorizer\n",
    "import matplotlib.pyplot as plt\n",
    "import seaborn as sns"
   ]
  },
  {
   "cell_type": "code",
   "execution_count": 2,
   "id": "368d9615",
   "metadata": {},
   "outputs": [
    {
     "name": "stderr",
     "output_type": "stream",
     "text": [
      "C:\\Users\\konst\\AppData\\Local\\Temp\\ipykernel_18212\\425355100.py:2: FutureWarning: The error_bad_lines argument has been deprecated and will be removed in a future version. Use on_bad_lines in the future.\n",
      "\n",
      "\n",
      "  books = pd.read_csv('BX-Books.csv', sep=';', error_bad_lines=False, encoding='latin-1',dtype={'yearOfPublication': 'float32'})\n",
      "b'Skipping line 6452: expected 8 fields, saw 9\\nSkipping line 43667: expected 8 fields, saw 10\\nSkipping line 51751: expected 8 fields, saw 9\\n'\n",
      "b'Skipping line 92038: expected 8 fields, saw 9\\nSkipping line 104319: expected 8 fields, saw 9\\nSkipping line 121768: expected 8 fields, saw 9\\n'\n",
      "b'Skipping line 144058: expected 8 fields, saw 9\\nSkipping line 150789: expected 8 fields, saw 9\\nSkipping line 157128: expected 8 fields, saw 9\\nSkipping line 180189: expected 8 fields, saw 9\\nSkipping line 185738: expected 8 fields, saw 9\\n'\n",
      "b'Skipping line 209388: expected 8 fields, saw 9\\nSkipping line 220626: expected 8 fields, saw 9\\nSkipping line 227933: expected 8 fields, saw 11\\nSkipping line 228957: expected 8 fields, saw 10\\nSkipping line 245933: expected 8 fields, saw 9\\nSkipping line 251296: expected 8 fields, saw 9\\nSkipping line 259941: expected 8 fields, saw 9\\nSkipping line 261529: expected 8 fields, saw 9\\n'\n",
      "C:\\Users\\konst\\AppData\\Local\\Temp\\ipykernel_18212\\425355100.py:2: DtypeWarning: Columns (3) have mixed types. Specify dtype option on import or set low_memory=False.\n",
      "  books = pd.read_csv('BX-Books.csv', sep=';', error_bad_lines=False, encoding='latin-1',dtype={'yearOfPublication': 'float32'})\n",
      "C:\\Users\\konst\\AppData\\Local\\Temp\\ipykernel_18212\\425355100.py:4: FutureWarning: The error_bad_lines argument has been deprecated and will be removed in a future version. Use on_bad_lines in the future.\n",
      "\n",
      "\n",
      "  users = pd.read_csv('BX-Users.csv', sep=';', error_bad_lines=False, encoding='latin-1')\n",
      "C:\\Users\\konst\\AppData\\Local\\Temp\\ipykernel_18212\\425355100.py:6: FutureWarning: The error_bad_lines argument has been deprecated and will be removed in a future version. Use on_bad_lines in the future.\n",
      "\n",
      "\n",
      "  ratings = pd.read_csv('BX-Book-Ratings.csv', sep=';', error_bad_lines=False, encoding='latin-1')\n"
     ]
    }
   ],
   "source": [
    "#books = pd.read_csv('BX-Books.csv',dtype={'ISBN': 'int', 'bookTitle': 'str', 'bookAuthor': 'str', 'yearOfPublication': 'int', 'publisher': 'str','imageUrlS': 'str','imageUrlM': 'str','imageUrlL': 'str'}, sep=';', error_bad_lines=False, encoding='latin-1')\n",
    "books = pd.read_csv('BX-Books.csv', sep=';', error_bad_lines=False, encoding='latin-1',dtype={'yearOfPublication': 'float32'})\n",
    "books.columns = ['ISBN', 'bookTitle', 'bookAuthor', 'yearOfPublication', 'publisher', 'imageUrlS', 'imageUrlM', 'imageUrlL']\n",
    "users = pd.read_csv('BX-Users.csv', sep=';', error_bad_lines=False, encoding='latin-1')\n",
    "users.columns = ['userID', 'Location', 'Age']\n",
    "ratings = pd.read_csv('BX-Book-Ratings.csv', sep=';', error_bad_lines=False, encoding='latin-1')\n",
    "ratings.columns = ['userID', 'ISBN', 'bookRating']"
   ]
  },
  {
   "cell_type": "markdown",
   "id": "a44c34ee",
   "metadata": {},
   "source": [
    "# Q1: Understanding the data - Data description\n",
    "\n",
    "Obtain the Book Crossing data set1\n",
    "this dataset contains information about books, users, and about user\n",
    "ratings of the book.\n",
    "Briefly describe the data set, including information about its size. Display in reverse order the book\n",
    "popularity, the author popularity, and the age ranges by reading activity. \n"
   ]
  },
  {
   "cell_type": "code",
   "execution_count": 3,
   "id": "1a93b2bc",
   "metadata": {},
   "outputs": [],
   "source": [
    "user_count = ratings['userID'].value_counts()\n",
    "book_count = ratings['bookRating'].value_counts()\n",
    "\n"
   ]
  },
  {
   "cell_type": "code",
   "execution_count": 4,
   "id": "1ea6baad",
   "metadata": {},
   "outputs": [
    {
     "data": {
      "text/html": [
       "<div>\n",
       "<style scoped>\n",
       "    .dataframe tbody tr th:only-of-type {\n",
       "        vertical-align: middle;\n",
       "    }\n",
       "\n",
       "    .dataframe tbody tr th {\n",
       "        vertical-align: top;\n",
       "    }\n",
       "\n",
       "    .dataframe thead th {\n",
       "        text-align: right;\n",
       "    }\n",
       "</style>\n",
       "<table border=\"1\" class=\"dataframe\">\n",
       "  <thead>\n",
       "    <tr style=\"text-align: right;\">\n",
       "      <th></th>\n",
       "      <th>userID</th>\n",
       "      <th>ISBN</th>\n",
       "      <th>bookRating</th>\n",
       "      <th>bookTitle</th>\n",
       "    </tr>\n",
       "  </thead>\n",
       "  <tbody>\n",
       "    <tr>\n",
       "      <th>0</th>\n",
       "      <td>276725</td>\n",
       "      <td>034545104X</td>\n",
       "      <td>0</td>\n",
       "      <td>Flesh Tones: A Novel</td>\n",
       "    </tr>\n",
       "    <tr>\n",
       "      <th>1</th>\n",
       "      <td>2313</td>\n",
       "      <td>034545104X</td>\n",
       "      <td>5</td>\n",
       "      <td>Flesh Tones: A Novel</td>\n",
       "    </tr>\n",
       "    <tr>\n",
       "      <th>2</th>\n",
       "      <td>6543</td>\n",
       "      <td>034545104X</td>\n",
       "      <td>0</td>\n",
       "      <td>Flesh Tones: A Novel</td>\n",
       "    </tr>\n",
       "    <tr>\n",
       "      <th>3</th>\n",
       "      <td>8680</td>\n",
       "      <td>034545104X</td>\n",
       "      <td>5</td>\n",
       "      <td>Flesh Tones: A Novel</td>\n",
       "    </tr>\n",
       "    <tr>\n",
       "      <th>4</th>\n",
       "      <td>10314</td>\n",
       "      <td>034545104X</td>\n",
       "      <td>9</td>\n",
       "      <td>Flesh Tones: A Novel</td>\n",
       "    </tr>\n",
       "  </tbody>\n",
       "</table>\n",
       "</div>"
      ],
      "text/plain": [
       "   userID        ISBN  bookRating             bookTitle\n",
       "0  276725  034545104X           0  Flesh Tones: A Novel\n",
       "1    2313  034545104X           5  Flesh Tones: A Novel\n",
       "2    6543  034545104X           0  Flesh Tones: A Novel\n",
       "3    8680  034545104X           5  Flesh Tones: A Novel\n",
       "4   10314  034545104X           9  Flesh Tones: A Novel"
      ]
     },
     "execution_count": 4,
     "metadata": {},
     "output_type": "execute_result"
    }
   ],
   "source": [
    "combined_book_rating = pd.merge(ratings, books, on='ISBN')\n",
    "combined_book_rating = combined_book_rating.drop({'yearOfPublication', 'publisher', 'bookAuthor', 'imageUrlS', 'imageUrlM', 'imageUrlL'}, axis='columns')\n",
    "combined_book_rating.head()"
   ]
  },
  {
   "cell_type": "code",
   "execution_count": 5,
   "id": "28023116",
   "metadata": {
    "scrolled": true
   },
   "outputs": [
    {
     "data": {
      "text/plain": [
       "Text(0.5, 1.0, 'Top Books by Most Ratings')"
      ]
     },
     "execution_count": 5,
     "metadata": {},
     "output_type": "execute_result"
    },
    {
     "data": {
      "image/png": "[encoded data removed]",
      "text/plain": [
       "<Figure size 1080x504 with 1 Axes>"
      ]
     },
     "metadata": {
      "needs_background": "light"
     },
     "output_type": "display_data"
    }
   ],
   "source": [
    "plt.figure(figsize=(15,7))\n",
    "sns.countplot(y='bookTitle',data=combined_book_rating, order=combined_book_rating['bookTitle'].value_counts().index[:10])\n",
    "plt.title('Top Books by Most Ratings')"
   ]
  },
  {
   "cell_type": "code",
   "execution_count": 6,
   "id": "216c9293",
   "metadata": {
    "scrolled": true
   },
   "outputs": [
    {
     "data": {
      "text/plain": [
       "Text(0.5, 1.0, 'No of books by an author (Top 10)')"
      ]
     },
     "execution_count": 6,
     "metadata": {},
     "output_type": "execute_result"
    },
    {
     "data": {
      "image/png": "[encoded data removed]",
      "text/plain": [
       "<Figure size 1080x432 with 1 Axes>"
      ]
     },
     "metadata": {
      "needs_background": "light"
     },
     "output_type": "display_data"
    }
   ],
   "source": [
    "plt.figure(figsize=(15,6))\n",
    "sns.countplot(y=\"bookAuthor\", data=books,order=books['bookAuthor'].value_counts().index[:10])\n",
    "plt.title(\"No of books by an author (Top 10)\")"
   ]
  },
  {
   "cell_type": "markdown",
   "id": "3f67824d",
   "metadata": {},
   "source": [
    "Authors with the most books was Agatha Christie, William Shakespeare and Stephen King.\n",
    "\n"
   ]
  },
  {
   "cell_type": "code",
   "execution_count": 7,
   "id": "08f90266",
   "metadata": {},
   "outputs": [
    {
     "data": {
      "image/png": "[encoded data removed]",
      "text/plain": [
       "<Figure size 864x504 with 1 Axes>"
      ]
     },
     "metadata": {
      "needs_background": "light"
     },
     "output_type": "display_data"
    }
   ],
   "source": [
    "users.Age.hist(bins=[0,5,10,15,20,25,30,35,40,45,50,55,60,65,70,75,80,85,90,95,100], figsize=(12,7))\n",
    "plt.title('Age Distribution')\n",
    "plt.xlabel('Age')\n",
    "plt.ylabel('Count')\n",
    "plt.show()\n",
    "\n"
   ]
  },
  {
   "cell_type": "markdown",
   "id": "92f79f7f",
   "metadata": {},
   "source": [
    "The Majority of the readers were of the age bracket 20-35 \n"
   ]
  },
  {
   "cell_type": "markdown",
   "id": "97f8fd3d",
   "metadata": {},
   "source": [
    "# Q1: Understanding the data - Outlier detection I\n",
    "\n",
    "In a data set the elements that exhibit a strange behavior are considered as outliers. This must be\n",
    "quantified. One way is to use the z-score2\n",
    ", and call outlier whatever is higher than a threshold (e.g. 3).\n",
    "Detect the outliers among the books, authors, and users, in terms of how many times they have been\n",
    "read (for books and authors) or how many books they have read for users. "
   ]
  },
  {
   "cell_type": "markdown",
   "id": "dafc4f21",
   "metadata": {},
   "source": [
    "We will consider the outliers in terms of Age and see if we need to remove some."
   ]
  },
  {
   "cell_type": "code",
   "execution_count": 8,
   "id": "42d98d4c",
   "metadata": {},
   "outputs": [
    {
     "name": "stderr",
     "output_type": "stream",
     "text": [
      "C:\\ProgramData\\Anaconda3\\lib\\site-packages\\seaborn\\_decorators.py:36: FutureWarning: Pass the following variable as a keyword arg: x. From version 0.12, the only valid positional argument will be `data`, and passing other arguments without an explicit keyword will result in an error or misinterpretation.\n",
      "  warnings.warn(\n"
     ]
    },
    {
     "data": {
      "text/plain": [
       "<AxesSubplot:xlabel='Age'>"
      ]
     },
     "execution_count": 8,
     "metadata": {},
     "output_type": "execute_result"
    },
    {
     "data": {
      "image/png": "[encoded data removed]",
      "text/plain": [
       "<Figure size 432x288 with 1 Axes>"
      ]
     },
     "metadata": {
      "needs_background": "light"
     },
     "output_type": "display_data"
    }
   ],
   "source": [
    "# For location is not numeric, so we don't expect any outlier \n",
    "\n",
    "sns.boxplot(users['Age'])\n",
    "\n",
    "# Here in age we can spot age values greater than 100 which are outliers, \n",
    "# and unrealistic because people older than 100 years old is very rare to be alive (we will come back here)"
   ]
  },
  {
   "cell_type": "markdown",
   "id": "4cb78897",
   "metadata": {},
   "source": [
    "# Data Cleaning\n",
    "\n",
    "We will reduce the dataset for getting more accurate data.We will include the users who have a lot of ratings for books because we believe so that they will be more precise and experianced on how to rate a book correctly.Therefore we will Exclude users with less than 150 ratings and books with less than 100 ratings\n"
   ]
  },
  {
   "cell_type": "code",
   "execution_count": 9,
   "id": "b3cd1d32",
   "metadata": {},
   "outputs": [],
   "source": [
    "ratings = ratings[ratings['userID'].isin(user_count[user_count >= 150].index)] \n",
    "ratings = ratings[ratings['bookRating'].isin(book_count[book_count >= 100].index)]"
   ]
  },
  {
   "cell_type": "code",
   "execution_count": 10,
   "id": "4860d8c2",
   "metadata": {},
   "outputs": [
    {
     "data": {
      "text/html": [
       "<div>\n",
       "<style scoped>\n",
       "    .dataframe tbody tr th:only-of-type {\n",
       "        vertical-align: middle;\n",
       "    }\n",
       "\n",
       "    .dataframe tbody tr th {\n",
       "        vertical-align: top;\n",
       "    }\n",
       "\n",
       "    .dataframe thead th {\n",
       "        text-align: right;\n",
       "    }\n",
       "</style>\n",
       "<table border=\"1\" class=\"dataframe\">\n",
       "  <thead>\n",
       "    <tr style=\"text-align: right;\">\n",
       "      <th></th>\n",
       "      <th>bookTitle</th>\n",
       "      <th>bookRating</th>\n",
       "    </tr>\n",
       "  </thead>\n",
       "  <tbody>\n",
       "    <tr>\n",
       "      <th>0</th>\n",
       "      <td>A Light in the Storm: The Civil War Diary of ...</td>\n",
       "      <td>4</td>\n",
       "    </tr>\n",
       "    <tr>\n",
       "      <th>1</th>\n",
       "      <td>Always Have Popsicles</td>\n",
       "      <td>1</td>\n",
       "    </tr>\n",
       "    <tr>\n",
       "      <th>2</th>\n",
       "      <td>Apple Magic (The Collector's series)</td>\n",
       "      <td>1</td>\n",
       "    </tr>\n",
       "    <tr>\n",
       "      <th>3</th>\n",
       "      <td>Ask Lily (Young Women of Faith: Lily Series, ...</td>\n",
       "      <td>1</td>\n",
       "    </tr>\n",
       "    <tr>\n",
       "      <th>4</th>\n",
       "      <td>Beyond IBM: Leadership Marketing and Finance ...</td>\n",
       "      <td>1</td>\n",
       "    </tr>\n",
       "  </tbody>\n",
       "</table>\n",
       "</div>"
      ],
      "text/plain": [
       "                                           bookTitle  bookRating\n",
       "0   A Light in the Storm: The Civil War Diary of ...           4\n",
       "1                              Always Have Popsicles           1\n",
       "2               Apple Magic (The Collector's series)           1\n",
       "3   Ask Lily (Young Women of Faith: Lily Series, ...           1\n",
       "4   Beyond IBM: Leadership Marketing and Finance ...           1"
      ]
     },
     "execution_count": 10,
     "metadata": {},
     "output_type": "execute_result"
    }
   ],
   "source": [
    "book_rating_count = combined_book_rating.groupby('bookTitle')['bookRating'].count().reset_index()\n",
    "book_rating_count.head()"
   ]
  },
  {
   "cell_type": "code",
   "execution_count": 11,
   "id": "c9e598e2",
   "metadata": {},
   "outputs": [
    {
     "data": {
      "text/html": [
       "<div>\n",
       "<style scoped>\n",
       "    .dataframe tbody tr th:only-of-type {\n",
       "        vertical-align: middle;\n",
       "    }\n",
       "\n",
       "    .dataframe tbody tr th {\n",
       "        vertical-align: top;\n",
       "    }\n",
       "\n",
       "    .dataframe thead th {\n",
       "        text-align: right;\n",
       "    }\n",
       "</style>\n",
       "<table border=\"1\" class=\"dataframe\">\n",
       "  <thead>\n",
       "    <tr style=\"text-align: right;\">\n",
       "      <th></th>\n",
       "      <th>bookTitle</th>\n",
       "      <th>totalRatingCount</th>\n",
       "    </tr>\n",
       "  </thead>\n",
       "  <tbody>\n",
       "    <tr>\n",
       "      <th>0</th>\n",
       "      <td>A Light in the Storm: The Civil War Diary of ...</td>\n",
       "      <td>4</td>\n",
       "    </tr>\n",
       "    <tr>\n",
       "      <th>1</th>\n",
       "      <td>Always Have Popsicles</td>\n",
       "      <td>1</td>\n",
       "    </tr>\n",
       "    <tr>\n",
       "      <th>2</th>\n",
       "      <td>Apple Magic (The Collector's series)</td>\n",
       "      <td>1</td>\n",
       "    </tr>\n",
       "    <tr>\n",
       "      <th>3</th>\n",
       "      <td>Ask Lily (Young Women of Faith: Lily Series, ...</td>\n",
       "      <td>1</td>\n",
       "    </tr>\n",
       "    <tr>\n",
       "      <th>4</th>\n",
       "      <td>Beyond IBM: Leadership Marketing and Finance ...</td>\n",
       "      <td>1</td>\n",
       "    </tr>\n",
       "  </tbody>\n",
       "</table>\n",
       "</div>"
      ],
      "text/plain": [
       "                                           bookTitle  totalRatingCount\n",
       "0   A Light in the Storm: The Civil War Diary of ...                 4\n",
       "1                              Always Have Popsicles                 1\n",
       "2               Apple Magic (The Collector's series)                 1\n",
       "3   Ask Lily (Young Women of Faith: Lily Series, ...                 1\n",
       "4   Beyond IBM: Leadership Marketing and Finance ...                 1"
      ]
     },
     "execution_count": 11,
     "metadata": {},
     "output_type": "execute_result"
    }
   ],
   "source": [
    "book_rating_count = book_rating_count.rename(columns = {\n",
    "    'bookRating' : 'totalRatingCount'\n",
    "})\n",
    "\n",
    "book_rating_count.head()"
   ]
  },
  {
   "cell_type": "code",
   "execution_count": 12,
   "id": "26994e4f",
   "metadata": {},
   "outputs": [
    {
     "data": {
      "text/html": [
       "<div>\n",
       "<style scoped>\n",
       "    .dataframe tbody tr th:only-of-type {\n",
       "        vertical-align: middle;\n",
       "    }\n",
       "\n",
       "    .dataframe tbody tr th {\n",
       "        vertical-align: top;\n",
       "    }\n",
       "\n",
       "    .dataframe thead th {\n",
       "        text-align: right;\n",
       "    }\n",
       "</style>\n",
       "<table border=\"1\" class=\"dataframe\">\n",
       "  <thead>\n",
       "    <tr style=\"text-align: right;\">\n",
       "      <th></th>\n",
       "      <th>userID</th>\n",
       "      <th>ISBN</th>\n",
       "      <th>bookRating</th>\n",
       "      <th>bookTitle</th>\n",
       "    </tr>\n",
       "  </thead>\n",
       "  <tbody>\n",
       "    <tr>\n",
       "      <th>0</th>\n",
       "      <td>276725</td>\n",
       "      <td>034545104X</td>\n",
       "      <td>0</td>\n",
       "      <td>Flesh Tones: A Novel</td>\n",
       "    </tr>\n",
       "    <tr>\n",
       "      <th>1</th>\n",
       "      <td>2313</td>\n",
       "      <td>034545104X</td>\n",
       "      <td>5</td>\n",
       "      <td>Flesh Tones: A Novel</td>\n",
       "    </tr>\n",
       "    <tr>\n",
       "      <th>2</th>\n",
       "      <td>6543</td>\n",
       "      <td>034545104X</td>\n",
       "      <td>0</td>\n",
       "      <td>Flesh Tones: A Novel</td>\n",
       "    </tr>\n",
       "    <tr>\n",
       "      <th>3</th>\n",
       "      <td>8680</td>\n",
       "      <td>034545104X</td>\n",
       "      <td>5</td>\n",
       "      <td>Flesh Tones: A Novel</td>\n",
       "    </tr>\n",
       "    <tr>\n",
       "      <th>4</th>\n",
       "      <td>10314</td>\n",
       "      <td>034545104X</td>\n",
       "      <td>9</td>\n",
       "      <td>Flesh Tones: A Novel</td>\n",
       "    </tr>\n",
       "  </tbody>\n",
       "</table>\n",
       "</div>"
      ],
      "text/plain": [
       "   userID        ISBN  bookRating             bookTitle\n",
       "0  276725  034545104X           0  Flesh Tones: A Novel\n",
       "1    2313  034545104X           5  Flesh Tones: A Novel\n",
       "2    6543  034545104X           0  Flesh Tones: A Novel\n",
       "3    8680  034545104X           5  Flesh Tones: A Novel\n",
       "4   10314  034545104X           9  Flesh Tones: A Novel"
      ]
     },
     "execution_count": 12,
     "metadata": {},
     "output_type": "execute_result"
    }
   ],
   "source": [
    "combined_book_rating.head()"
   ]
  },
  {
   "cell_type": "code",
   "execution_count": 13,
   "id": "93ab8398",
   "metadata": {},
   "outputs": [],
   "source": [
    "rating_with_totalRatingCount = pd.merge(combined_book_rating, book_rating_count, left_on = 'bookTitle', right_on = 'bookTitle', how= 'left')\n",
    "rating_with_totalRatingCount.head()\n",
    "rating_with_totalRatingCount.to_csv ('test.csv')"
   ]
  },
  {
   "cell_type": "code",
   "execution_count": 14,
   "id": "6e0d4d37",
   "metadata": {},
   "outputs": [
    {
     "data": {
      "text/html": [
       "<div>\n",
       "<style scoped>\n",
       "    .dataframe tbody tr th:only-of-type {\n",
       "        vertical-align: middle;\n",
       "    }\n",
       "\n",
       "    .dataframe tbody tr th {\n",
       "        vertical-align: top;\n",
       "    }\n",
       "\n",
       "    .dataframe thead th {\n",
       "        text-align: right;\n",
       "    }\n",
       "</style>\n",
       "<table border=\"1\" class=\"dataframe\">\n",
       "  <thead>\n",
       "    <tr style=\"text-align: right;\">\n",
       "      <th></th>\n",
       "      <th>userID</th>\n",
       "      <th>ISBN</th>\n",
       "      <th>bookRating</th>\n",
       "      <th>bookTitle</th>\n",
       "      <th>totalRatingCount</th>\n",
       "    </tr>\n",
       "  </thead>\n",
       "  <tbody>\n",
       "    <tr>\n",
       "      <th>62</th>\n",
       "      <td>276727</td>\n",
       "      <td>0446520802</td>\n",
       "      <td>0</td>\n",
       "      <td>The Notebook</td>\n",
       "      <td>650</td>\n",
       "    </tr>\n",
       "    <tr>\n",
       "      <th>63</th>\n",
       "      <td>278418</td>\n",
       "      <td>0446520802</td>\n",
       "      <td>0</td>\n",
       "      <td>The Notebook</td>\n",
       "      <td>650</td>\n",
       "    </tr>\n",
       "    <tr>\n",
       "      <th>64</th>\n",
       "      <td>638</td>\n",
       "      <td>0446520802</td>\n",
       "      <td>0</td>\n",
       "      <td>The Notebook</td>\n",
       "      <td>650</td>\n",
       "    </tr>\n",
       "    <tr>\n",
       "      <th>65</th>\n",
       "      <td>3363</td>\n",
       "      <td>0446520802</td>\n",
       "      <td>0</td>\n",
       "      <td>The Notebook</td>\n",
       "      <td>650</td>\n",
       "    </tr>\n",
       "    <tr>\n",
       "      <th>66</th>\n",
       "      <td>7158</td>\n",
       "      <td>0446520802</td>\n",
       "      <td>10</td>\n",
       "      <td>The Notebook</td>\n",
       "      <td>650</td>\n",
       "    </tr>\n",
       "  </tbody>\n",
       "</table>\n",
       "</div>"
      ],
      "text/plain": [
       "    userID        ISBN  bookRating     bookTitle  totalRatingCount\n",
       "62  276727  0446520802           0  The Notebook               650\n",
       "63  278418  0446520802           0  The Notebook               650\n",
       "64     638  0446520802           0  The Notebook               650\n",
       "65    3363  0446520802           0  The Notebook               650\n",
       "66    7158  0446520802          10  The Notebook               650"
      ]
     },
     "execution_count": 14,
     "metadata": {},
     "output_type": "execute_result"
    }
   ],
   "source": [
    "threshold = 100\n",
    "popular_books  = rating_with_totalRatingCount.query('totalRatingCount >= @threshold')\n",
    "popular_books.head()"
   ]
  },
  {
   "cell_type": "markdown",
   "id": "caef722c",
   "metadata": {},
   "source": [
    "# We will split the locations so we can find the Countries the select the top one, for limitation issues while being an appropriate use at the same because of it's high user base, which possibly means more accuracy"
   ]
  },
  {
   "cell_type": "code",
   "execution_count": 15,
   "id": "f9834991",
   "metadata": {},
   "outputs": [
    {
     "data": {
      "text/html": [
       "<div>\n",
       "<style scoped>\n",
       "    .dataframe tbody tr th:only-of-type {\n",
       "        vertical-align: middle;\n",
       "    }\n",
       "\n",
       "    .dataframe tbody tr th {\n",
       "        vertical-align: top;\n",
       "    }\n",
       "\n",
       "    .dataframe thead th {\n",
       "        text-align: right;\n",
       "    }\n",
       "</style>\n",
       "<table border=\"1\" class=\"dataframe\">\n",
       "  <thead>\n",
       "    <tr style=\"text-align: right;\">\n",
       "      <th></th>\n",
       "      <th>city</th>\n",
       "      <th>state</th>\n",
       "      <th>country</th>\n",
       "    </tr>\n",
       "  </thead>\n",
       "  <tbody>\n",
       "    <tr>\n",
       "      <th>0</th>\n",
       "      <td>nyc</td>\n",
       "      <td>new york</td>\n",
       "      <td>usa</td>\n",
       "    </tr>\n",
       "    <tr>\n",
       "      <th>1</th>\n",
       "      <td>stockton</td>\n",
       "      <td>california</td>\n",
       "      <td>usa</td>\n",
       "    </tr>\n",
       "    <tr>\n",
       "      <th>2</th>\n",
       "      <td>moscow</td>\n",
       "      <td>yukon territory</td>\n",
       "      <td>russia</td>\n",
       "    </tr>\n",
       "    <tr>\n",
       "      <th>3</th>\n",
       "      <td>porto</td>\n",
       "      <td>v.n.gaia</td>\n",
       "      <td>portugal</td>\n",
       "    </tr>\n",
       "    <tr>\n",
       "      <th>4</th>\n",
       "      <td>farnborough</td>\n",
       "      <td>hants</td>\n",
       "      <td>united kingdom</td>\n",
       "    </tr>\n",
       "  </tbody>\n",
       "</table>\n",
       "</div>"
      ],
      "text/plain": [
       "          city             state          country\n",
       "0          nyc          new york              usa\n",
       "1     stockton        california              usa\n",
       "2       moscow   yukon territory           russia\n",
       "3        porto          v.n.gaia         portugal\n",
       "4  farnborough             hants   united kingdom"
      ]
     },
     "execution_count": 15,
     "metadata": {},
     "output_type": "execute_result"
    }
   ],
   "source": [
    "user_location_expanded = users.Location.str.split(',', 2, expand=True)\n",
    "user_location_expanded.columns = ['city', 'state', 'country']\n",
    "#users = users.join(user_location_expanded)\n",
    "\n",
    "user_location_expanded.head()"
   ]
  },
  {
   "cell_type": "code",
   "execution_count": 16,
   "id": "a01657ca",
   "metadata": {},
   "outputs": [
    {
     "name": "stdout",
     "output_type": "stream",
     "text": [
      "The top 10 countries with the most users are:\n",
      " usa               139183\n",
      " canada             21556\n",
      " united kingdom     18286\n",
      " germany            17021\n",
      " spain              13088\n",
      " australia          11719\n",
      " italy              11238\n",
      "                     4561\n",
      " france              3440\n",
      " portugal            3305\n",
      "Name: country, dtype: int64\n"
     ]
    }
   ],
   "source": [
    "top_countries = user_location_expanded.country.value_counts()[:10]\n",
    "print(f'The top 10 countries with the most users are:\\n{top_countries}')"
   ]
  },
  {
   "cell_type": "markdown",
   "id": "2606842e",
   "metadata": {},
   "source": [
    "# We will filter the Users to the ones in Usa and only between 12 and 85 years old and drop duplicate values\n",
    "\n",
    "We believe that ratings are more accurate from people between 12 and 85 years old.Since Usa is the top country in users with a huge difference from Canada we will calculate base on this dataset for accuracy and computational resources"
   ]
  },
  {
   "cell_type": "code",
   "execution_count": 17,
   "id": "af957e37",
   "metadata": {},
   "outputs": [
    {
     "data": {
      "text/plain": [
       "(183799, 7)"
      ]
     },
     "execution_count": 17,
     "metadata": {},
     "output_type": "execute_result"
    }
   ],
   "source": [
    "combined = pd.merge(popular_books, users, left_on  = 'userID', right_on = 'userID', how = 'left')\n",
    "combined.head()\n",
    "combined.shape"
   ]
  },
  {
   "cell_type": "code",
   "execution_count": 18,
   "id": "085398f8",
   "metadata": {},
   "outputs": [
    {
     "data": {
      "text/plain": [
       "(127421, 7)"
      ]
     },
     "execution_count": 18,
     "metadata": {},
     "output_type": "execute_result"
    }
   ],
   "source": [
    "usa_ratings = combined[combined['Location'].str.contains('usa')]\n",
    "usa_ratings = combined[combined['Age'].between(12, 85)]\n",
    "#us_canada_ratings = us_canada_ratings.drop('Age', axis='columns')\n",
    "usa_ratings = usa_ratings.drop_duplicates(['userID', 'bookTitle'])\n",
    "usa_ratings.shape\n"
   ]
  },
  {
   "cell_type": "markdown",
   "id": "47762b4e",
   "metadata": {},
   "source": [
    "# Q2: Recommender System: Find similarities-10%\n",
    "\n",
    "1. You will need to find the similarity between all of pairs users based on the books they have read.\n",
    "a. Store the results in a csv file, entitled: ‘user-pairs-books.data’"
   ]
  },
  {
   "cell_type": "markdown",
   "id": "a5387b93",
   "metadata": {},
   "source": [
    "# Let's Prepare the Matrix for Cosine Similarity"
   ]
  },
  {
   "cell_type": "code",
   "execution_count": 19,
   "id": "bda500ab",
   "metadata": {},
   "outputs": [],
   "source": [
    "\n",
    "# We will first create our pivot table\n",
    "usa_ratings_pivot = usa_ratings.pivot(index = 'bookTitle', columns = 'userID', values = 'bookRating').fillna(0)"
   ]
  },
  {
   "cell_type": "code",
   "execution_count": 20,
   "id": "a0b72fcd",
   "metadata": {},
   "outputs": [],
   "source": [
    "usa_ratings_pivot.head() \n",
    "pd.DataFrame(usa_ratings_pivot).to_csv(\"Pivotnew.csv \")"
   ]
  },
  {
   "cell_type": "code",
   "execution_count": 21,
   "id": "27bdc1eb",
   "metadata": {},
   "outputs": [
    {
     "name": "stdout",
     "output_type": "stream",
     "text": [
      "[[1.         0.02159723 0.         ... 0.04029814 0.01770722 0.01079566]\n",
      " [0.02159723 1.         0.01682558 ... 0.01012915 0.02011646 0.04173341]\n",
      " [0.         0.01682558 1.         ... 0.         0.         0.        ]\n",
      " ...\n",
      " [0.04029814 0.01012915 0.         ... 1.         0.         0.        ]\n",
      " [0.01770722 0.02011646 0.         ... 0.         1.         0.        ]\n",
      " [0.01079566 0.04173341 0.         ... 0.         0.         1.        ]]\n"
     ]
    }
   ],
   "source": [
    "cs = cosine_similarity(usa_ratings_pivot)\n",
    "print (cs)\n",
    "pd.DataFrame(cs).to_csv(\"‘user-pairs-books.data \")\n",
    "pd.DataFrame(cs).to_csv(\"‘user-pairs-books.csv\")"
   ]
  },
  {
   "cell_type": "markdown",
   "id": "6c29c466",
   "metadata": {},
   "source": [
    "# Q2: Recommender System: Recommend-10%\n",
    "\n",
    "Compute the recommendation according to the collaborative filtering. The core idea is the neighbors\n",
    "vote according to their similarity to the user."
   ]
  },
  {
   "cell_type": "markdown",
   "id": "c70b59b2",
   "metadata": {},
   "source": [
    "# We will see how much precise a user-user recommendation is with a few neighbors\n",
    "\n",
    "For this approach we will pick a random user and recommend the most related users to him"
   ]
  },
  {
   "cell_type": "code",
   "execution_count": 22,
   "id": "444c7ce4",
   "metadata": {},
   "outputs": [],
   "source": [
    "usa_ratings_user_pivot = usa_ratings.pivot(index = 'userID', columns = 'bookTitle', values = 'bookRating').fillna(0)\n",
    "\n"
   ]
  },
  {
   "cell_type": "code",
   "execution_count": 23,
   "id": "585e3783",
   "metadata": {},
   "outputs": [],
   "source": [
    "from scipy.sparse import csr_matrix\n",
    "\n",
    "usa_ratings_matrix = csr_matrix(usa_ratings_user_pivot.values)"
   ]
  },
  {
   "cell_type": "code",
   "execution_count": 24,
   "id": "26d3af43",
   "metadata": {},
   "outputs": [
    {
     "data": {
      "text/plain": [
       "NearestNeighbors(algorithm='brute', metric='cosine')"
      ]
     },
     "execution_count": 24,
     "metadata": {},
     "output_type": "execute_result"
    }
   ],
   "source": [
    "from sklearn.neighbors import NearestNeighbors\n",
    "\n",
    "model = NearestNeighbors(metric = 'cosine', algorithm = 'brute')\n",
    "model.fit(usa_ratings_matrix)"
   ]
  },
  {
   "cell_type": "code",
   "execution_count": 25,
   "id": "f49d6ee2",
   "metadata": {},
   "outputs": [
    {
     "name": "stdout",
     "output_type": "stream",
     "text": [
      "13775\n"
     ]
    }
   ],
   "source": [
    "query_index = np.random.choice(usa_ratings_matrix.shape[0])\n",
    "print(query_index)\n",
    "distance, indices = model.kneighbors(usa_ratings_user_pivot.iloc[query_index,:].values.reshape(1, -1), n_neighbors = 6)"
   ]
  },
  {
   "cell_type": "code",
   "execution_count": 26,
   "id": "b6078dbe",
   "metadata": {},
   "outputs": [
    {
     "data": {
      "text/plain": [
       "169192"
      ]
     },
     "execution_count": 26,
     "metadata": {},
     "output_type": "execute_result"
    }
   ],
   "source": [
    " usa_ratings_user_pivot.index[query_index]"
   ]
  },
  {
   "cell_type": "code",
   "execution_count": 27,
   "id": "90ec9ee2",
   "metadata": {},
   "outputs": [
    {
     "name": "stdout",
     "output_type": "stream",
     "text": [
      "Recommendations for 169192:\n",
      "\n",
      "1: 254086, with distance of [0.         0.13613157 0.13613157 0.13613157 0.13613157 0.13613157]:\n",
      "2: 57661, with distance of [0.         0.13613157 0.13613157 0.13613157 0.13613157 0.13613157]:\n",
      "3: 245666, with distance of [0.         0.13613157 0.13613157 0.13613157 0.13613157 0.13613157]:\n",
      "4: 189557, with distance of [0.         0.13613157 0.13613157 0.13613157 0.13613157 0.13613157]:\n",
      "5: 183088, with distance of [0.         0.13613157 0.13613157 0.13613157 0.13613157 0.13613157]:\n"
     ]
    }
   ],
   "source": [
    "for i in range(0, len(distance.flatten())):\n",
    "    if i == 0:\n",
    "        print('Recommendations for {0}:\\n'.format(usa_ratings_user_pivot.index[query_index]))\n",
    "    else:\n",
    "        print('{0}: {1}, with distance of {2}:'.format(i, usa_ratings_user_pivot.index[indices.flatten()[i]], distance.flatten()))"
   ]
  },
  {
   "cell_type": "code",
   "execution_count": null,
   "id": "dc4ac6c9",
   "metadata": {},
   "outputs": [],
   "source": []
  },
  {
   "cell_type": "markdown",
   "id": "2702485d",
   "metadata": {},
   "source": [
    "# Q2: Recommender System: Evaluate the recommendation-20%\n",
    "\n",
    "Evaluate the system based on statistical measures, such as the root mean square error/ precision/ recall\n",
    "/ F1 for various neighborhood sizeds.\n",
    "(You will be provided with suggestions about the design and implementation and the evaluation of the\n",
    "recommender system)."
   ]
  },
  {
   "cell_type": "code",
   "execution_count": 28,
   "id": "4ada5c0a",
   "metadata": {},
   "outputs": [
    {
     "data": {
      "text/plain": [
       "(914, 22617)"
      ]
     },
     "execution_count": 28,
     "metadata": {},
     "output_type": "execute_result"
    }
   ],
   "source": [
    "arr = usa_ratings_pivot.to_numpy()\n",
    "arr.shape"
   ]
  },
  {
   "cell_type": "code",
   "execution_count": 29,
   "id": "848b458f",
   "metadata": {},
   "outputs": [
    {
     "name": "stdout",
     "output_type": "stream",
     "text": [
      "[[0. 0. 0. ... 0. 0. 0.]\n",
      " [0. 0. 0. ... 0. 0. 0.]\n",
      " [0. 0. 0. ... 0. 0. 0.]\n",
      " ...\n",
      " [0. 0. 0. ... 0. 0. 0.]\n",
      " [0. 0. 0. ... 0. 0. 0.]\n",
      " [0. 0. 0. ... 0. 0. 0.]]\n",
      "914\n"
     ]
    }
   ],
   "source": [
    "print (arr)\n",
    "print(len(arr))"
   ]
  },
  {
   "cell_type": "code",
   "execution_count": 30,
   "id": "06468838",
   "metadata": {},
   "outputs": [],
   "source": [
    "pd.DataFrame(arr).to_csv('samplepivot.csv')   "
   ]
  },
  {
   "cell_type": "code",
   "execution_count": 31,
   "id": "36860b7c",
   "metadata": {},
   "outputs": [],
   "source": [
    "def findKSimilar (r, k):\n",
    "    \n",
    "    # similarUsers is 2-D matrix\n",
    "    similarUsers=-1*np.ones((nUsers,k))\n",
    "    \n",
    "    similarities=cosine_similarity(r)\n",
    "       \n",
    "    # for each user\n",
    "    for i in range(0, nUsers):\n",
    "        simUsersIdxs= np.argsort(similarities[:,i])\n",
    "        \n",
    "        l=0\n",
    "        #find its most similar users    \n",
    "        for j in range(simUsersIdxs.size-2, simUsersIdxs.size-2-k,-1):\n",
    "            simUsersIdxs[-k+1:]\n",
    "            similarUsers[i,l]=simUsersIdxs[j]\n",
    "            l=l+1\n",
    "            \n",
    "    return similarUsers, similarities"
   ]
  },
  {
   "cell_type": "code",
   "execution_count": 32,
   "id": "9138c7c3",
   "metadata": {},
   "outputs": [],
   "source": [
    "def predict(userId, itemId, arr,similarUsers,similarities):\n",
    "\n",
    "    # number of neighbours to consider\n",
    "    nCols=similarUsers.shape[1]\n",
    "    \n",
    "    sum=0.0;\n",
    "    simSum=0.0;\n",
    "    for l in range(0,nCols):    \n",
    "        neighbor=int(similarUsers[userId, l])\n",
    "        #weighted sum\n",
    "        sum= sum+ arr[neighbor,itemId]*similarities[neighbor,userId]\n",
    "        simSum = simSum + similarities[neighbor,userId]\n",
    "    \n",
    "    return  sum/simSum"
   ]
  },
  {
   "cell_type": "code",
   "execution_count": 33,
   "id": "614604d4",
   "metadata": {},
   "outputs": [
    {
     "name": "stdout",
     "output_type": "stream",
     "text": [
      "Mean Absolute Error (MAE)= 0.031219907877045684\n"
     ]
    }
   ],
   "source": [
    "nUsers = arr.shape[0]\n",
    "nItems = arr.shape[1]\n",
    "\n",
    "nRows, nCols= arr.shape\n",
    "#r=np.random.rand(nUsers, nItems)\n",
    "\n",
    "#you can change the number of neighbors, currently it's 1\n",
    "similarUsers, similarities=findKSimilar (arr,1)\n",
    "\n",
    "mae=0\n",
    "for i in range(0,nUsers):\n",
    "    for j in range(0, nItems):\n",
    "        rhat=predict (i,j,arr, similarUsers, similarities)\n",
    "   #     print ('prediction, real',rhat,r[i,j])\n",
    "        mae=mae+np.abs(rhat-arr[i,j])\n",
    "mae=mae/(nRows*nCols)        \n",
    "print ('Mean Absolute Error (MAE)=',mae)\n"
   ]
  },
  {
   "cell_type": "code",
   "execution_count": 34,
   "id": "50d39693",
   "metadata": {},
   "outputs": [
    {
     "name": "stdout",
     "output_type": "stream",
     "text": [
      "Mean Squared Error (RMSE)= 0.5038624873639246\n"
     ]
    }
   ],
   "source": [
    "nUsers = arr.shape[0] \n",
    "nItems = arr.shape[1] \n",
    "\n",
    "nRows, nCols= arr.shape\n",
    "#r=np.random.rand(nUsers, nItems)\n",
    "\n",
    "#you can change the number of neighbors, currently it's 1\n",
    "similarUsers, similarities=findKSimilar (arr,1)\n",
    "\n",
    "\n",
    "rmse=0\n",
    "for i in range(0,nUsers):\n",
    "    for j in range(0, nItems):\n",
    "        rhat=predict (i,j,arr, similarUsers, similarities)\n",
    "   #     print ('prediction, real',rhat,r[i,j])\n",
    "        rmse=rmse+np.square(rhat-arr[i,j])\n",
    "rmse=np.sqrt(rmse/(nRows*nCols))      \n",
    "print ('Mean Squared Error (RMSE)=',rmse)"
   ]
  },
  {
   "cell_type": "code",
   "execution_count": 35,
   "id": "b8ff96b0",
   "metadata": {},
   "outputs": [
    {
     "name": "stdout",
     "output_type": "stream",
     "text": [
      "Precision= 0.16861972193063263\n",
      "Recall= 0.16485841152815014\n"
     ]
    }
   ],
   "source": [
    "tp=fn=fp=fn=0\n",
    "for i in range(0,nUsers):\n",
    "    for j in range(0, nItems):\n",
    "        rhat=predict (i,j,arr, similarUsers, similarities)\n",
    "        if rhat>=5 and arr[i,j]>=5:\n",
    "            tp=tp+1\n",
    "        elif rhat>=5 and arr[i,j]<5:\n",
    "            fp=fp+1\n",
    "        elif rhat<5 and arr[i,j]>=5:\n",
    "            fn=fn+1\n",
    "            \n",
    "            \n",
    "precision=tp/(tp+fp)\n",
    "recall = tp/(tp+fn)\n",
    "\n",
    "\n",
    "print ('Precision=',precision)\n",
    "print ('Recall=',recall)"
   ]
  },
  {
   "cell_type": "code",
   "execution_count": 36,
   "id": "079dfba9",
   "metadata": {},
   "outputs": [
    {
     "name": "stdout",
     "output_type": "stream",
     "text": [
      "F1= 0.16671785475996315\n"
     ]
    }
   ],
   "source": [
    "if precision != 0 and recall != 0:\n",
    "    f1 = 2 * precision * recall / (precision + recall)\n",
    "    print('F1=', f1)"
   ]
  },
  {
   "cell_type": "code",
   "execution_count": 37,
   "id": "80b259a9",
   "metadata": {},
   "outputs": [
    {
     "name": "stdout",
     "output_type": "stream",
     "text": [
      "All Together:\n",
      "Mean Absolute Error (MAE)= 0.031219907877045684\n",
      "Mean Squared Error (RMSE)= 0.5038624873639246\n",
      "Precision= 0.16861972193063263\n",
      "Recall= 0.16485841152815014\n",
      "F1= 0.16671785475996315\n"
     ]
    }
   ],
   "source": [
    "print('All Together:')\n",
    "\n",
    "print ('Mean Absolute Error (MAE)=',mae)\n",
    "print ('Mean Squared Error (RMSE)=',rmse)\n",
    "print ('Precision=',precision)\n",
    "print ('Recall=',recall)\n",
    "print('F1=', f1)"
   ]
  },
  {
   "cell_type": "markdown",
   "id": "9f6d6545",
   "metadata": {},
   "source": [
    "# Our results weren't so good.Let's provide suggestions about the design and implementation of the recommender system\n",
    "\n",
    "\n",
    "Firstly let's take a look at the plot rating and counts"
   ]
  },
  {
   "cell_type": "code",
   "execution_count": 38,
   "id": "3c4dba7d",
   "metadata": {},
   "outputs": [
    {
     "data": {
      "text/html": [
       "<div>\n",
       "<style scoped>\n",
       "    .dataframe tbody tr th:only-of-type {\n",
       "        vertical-align: middle;\n",
       "    }\n",
       "\n",
       "    .dataframe tbody tr th {\n",
       "        vertical-align: top;\n",
       "    }\n",
       "\n",
       "    .dataframe thead th {\n",
       "        text-align: right;\n",
       "    }\n",
       "</style>\n",
       "<table border=\"1\" class=\"dataframe\">\n",
       "  <thead>\n",
       "    <tr style=\"text-align: right;\">\n",
       "      <th></th>\n",
       "      <th>userID</th>\n",
       "      <th>ISBN</th>\n",
       "      <th>bookRating</th>\n",
       "      <th>bookTitle</th>\n",
       "      <th>totalRatingCount</th>\n",
       "      <th>Location</th>\n",
       "      <th>Age</th>\n",
       "    </tr>\n",
       "  </thead>\n",
       "  <tbody>\n",
       "    <tr>\n",
       "      <th>0</th>\n",
       "      <td>276727</td>\n",
       "      <td>0446520802</td>\n",
       "      <td>0</td>\n",
       "      <td>The Notebook</td>\n",
       "      <td>650</td>\n",
       "      <td>h, new south wales, australia</td>\n",
       "      <td>16.0</td>\n",
       "    </tr>\n",
       "    <tr>\n",
       "      <th>2</th>\n",
       "      <td>638</td>\n",
       "      <td>0446520802</td>\n",
       "      <td>0</td>\n",
       "      <td>The Notebook</td>\n",
       "      <td>650</td>\n",
       "      <td>san diego, california, usa</td>\n",
       "      <td>20.0</td>\n",
       "    </tr>\n",
       "    <tr>\n",
       "      <th>3</th>\n",
       "      <td>3363</td>\n",
       "      <td>0446520802</td>\n",
       "      <td>0</td>\n",
       "      <td>The Notebook</td>\n",
       "      <td>650</td>\n",
       "      <td>knoxville, tennessee, usa</td>\n",
       "      <td>29.0</td>\n",
       "    </tr>\n",
       "    <tr>\n",
       "      <th>4</th>\n",
       "      <td>7158</td>\n",
       "      <td>0446520802</td>\n",
       "      <td>10</td>\n",
       "      <td>The Notebook</td>\n",
       "      <td>650</td>\n",
       "      <td>omaha, nebraska, usa</td>\n",
       "      <td>30.0</td>\n",
       "    </tr>\n",
       "    <tr>\n",
       "      <th>5</th>\n",
       "      <td>8253</td>\n",
       "      <td>0446520802</td>\n",
       "      <td>10</td>\n",
       "      <td>The Notebook</td>\n",
       "      <td>650</td>\n",
       "      <td>tulsa, oklahoma, usa</td>\n",
       "      <td>26.0</td>\n",
       "    </tr>\n",
       "  </tbody>\n",
       "</table>\n",
       "</div>"
      ],
      "text/plain": [
       "   userID        ISBN  bookRating     bookTitle  totalRatingCount  \\\n",
       "0  276727  0446520802           0  The Notebook               650   \n",
       "2     638  0446520802           0  The Notebook               650   \n",
       "3    3363  0446520802           0  The Notebook               650   \n",
       "4    7158  0446520802          10  The Notebook               650   \n",
       "5    8253  0446520802          10  The Notebook               650   \n",
       "\n",
       "                        Location   Age  \n",
       "0  h, new south wales, australia  16.0  \n",
       "2     san diego, california, usa  20.0  \n",
       "3      knoxville, tennessee, usa  29.0  \n",
       "4           omaha, nebraska, usa  30.0  \n",
       "5           tulsa, oklahoma, usa  26.0  "
      ]
     },
     "execution_count": 38,
     "metadata": {},
     "output_type": "execute_result"
    }
   ],
   "source": [
    "usa_ratings.head()\n"
   ]
  },
  {
   "cell_type": "code",
   "execution_count": 39,
   "id": "d7fa065f",
   "metadata": {},
   "outputs": [
    {
     "data": {
      "image/png": "[encoded data removed]",
      "text/plain": [
       "<Figure size 720x360 with 1 Axes>"
      ]
     },
     "metadata": {
      "needs_background": "light"
     },
     "output_type": "display_data"
    }
   ],
   "source": [
    "RatingCount = usa_ratings.bookRating.value_counts().sort_index()\n",
    "\n",
    "plt.figure(figsize=(10, 5))\n",
    "plt.rcParams.update({'font.size': 15}) # Set larger plot font size\n",
    "plt.bar(RatingCount.index, RatingCount.values)\n",
    "plt.xlabel('Rating')\n",
    "plt.ylabel('counts')\n",
    "plt.show()"
   ]
  },
  {
   "cell_type": "markdown",
   "id": "556c553e",
   "metadata": {},
   "source": [
    "There are many users who have 0 ratings.This should be an issue.\n",
    "\n",
    "Perhaps our model will be better if we'll only include explicit ratings thus 0 rating entries will be removed."
   ]
  },
  {
   "cell_type": "code",
   "execution_count": 40,
   "id": "0c7644d5",
   "metadata": {},
   "outputs": [],
   "source": [
    "usa_ratings_No0 = usa_ratings[usa_ratings.bookRating != 0]"
   ]
  },
  {
   "cell_type": "code",
   "execution_count": 41,
   "id": "2b6461c4",
   "metadata": {
    "scrolled": true
   },
   "outputs": [
    {
     "data": {
      "image/png": "[encoded data removed]",
      "text/plain": [
       "<Figure size 720x360 with 1 Axes>"
      ]
     },
     "metadata": {
      "needs_background": "light"
     },
     "output_type": "display_data"
    }
   ],
   "source": [
    "RatingCountNo0 = usa_ratings_No0.bookRating.value_counts().sort_index()\n",
    "\n",
    "plt.figure(figsize=(10, 5))\n",
    "plt.rcParams.update({'font.size': 15}) # Set larger plot font size\n",
    "plt.bar(RatingCountNo0.index, RatingCountNo0.values)\n",
    "plt.xlabel('Rating')\n",
    "plt.ylabel('counts')\n",
    "plt.show()"
   ]
  },
  {
   "cell_type": "code",
   "execution_count": 42,
   "id": "691421e5",
   "metadata": {},
   "outputs": [],
   "source": [
    "usa_ratings_No0_pivot = usa_ratings_No0.pivot(index = 'userID', columns = 'bookTitle', values = 'bookRating').fillna(0)"
   ]
  },
  {
   "cell_type": "code",
   "execution_count": 43,
   "id": "9a6ebfc3",
   "metadata": {},
   "outputs": [
    {
     "data": {
      "text/plain": [
       "16020"
      ]
     },
     "execution_count": 43,
     "metadata": {},
     "output_type": "execute_result"
    }
   ],
   "source": [
    "arr2 = usa_ratings_No0_pivot.to_numpy()\n",
    "arr2.shape[0]"
   ]
  },
  {
   "cell_type": "code",
   "execution_count": 44,
   "id": "4a272445",
   "metadata": {},
   "outputs": [
    {
     "name": "stdout",
     "output_type": "stream",
     "text": [
      "Mean Absolute Error (MAE)= 0.019048467861562543\n"
     ]
    }
   ],
   "source": [
    "nUsers = arr2.shape[0] \n",
    "nItems = arr2.shape[1] \n",
    "\n",
    "nRows, nCols= arr2.shape\n",
    "#r=np.random.rand(nUsers, nItems)\n",
    "\n",
    "#you can change the number of neighbors, currently it's 1\n",
    "similarUsers, similarities=findKSimilar (arr2,1)\n",
    "\n",
    "mae=0\n",
    "for i in range(0,nUsers):\n",
    "    for j in range(0, nItems):\n",
    "        rhat=predict (i,j,arr2, similarUsers, similarities)\n",
    "   #     print ('prediction, real',rhat,r[i,j])\n",
    "        mae=mae+np.abs(rhat-arr2[i,j])\n",
    "mae=mae/(nRows*nCols)        \n",
    "print ('Mean Absolute Error (MAE)=',mae)"
   ]
  },
  {
   "cell_type": "code",
   "execution_count": 45,
   "id": "4fbd8d3a",
   "metadata": {},
   "outputs": [
    {
     "name": "stdout",
     "output_type": "stream",
     "text": [
      "Mean Squared Error (RMSE)= 0.377224600050466\n"
     ]
    }
   ],
   "source": [
    "nUsers = arr2.shape[0] \n",
    "nItems = arr2.shape[1] \n",
    "\n",
    "nRows, nCols= arr2.shape\n",
    "#r=np.random.rand(nUsers, nItems)\n",
    "\n",
    "#you can change the number of neighbors, currently it's 1\n",
    "similarUsers, similarities=findKSimilar (arr2,1)\n",
    "\n",
    "\n",
    "rmse=0\n",
    "for i in range(0,nUsers):\n",
    "    for j in range(0, nItems):\n",
    "        rhat=predict (i,j,arr2, similarUsers, similarities)\n",
    "   #     print ('prediction, real',rhat,r[i,j])\n",
    "        rmse=rmse+np.square(rhat-arr2[i,j])\n",
    "rmse=np.sqrt(rmse/(nRows*nCols))      \n",
    "print ('Mean Squared Error (RMSE)=',rmse)"
   ]
  },
  {
   "cell_type": "markdown",
   "id": "f83274c5",
   "metadata": {},
   "source": [
    "# We will set the threshold for books ratings at >7 this time.After trying different values for 'fair' book ratings this was the most optimal one."
   ]
  },
  {
   "cell_type": "code",
   "execution_count": 46,
   "id": "44bf472d",
   "metadata": {},
   "outputs": [
    {
     "name": "stdout",
     "output_type": "stream",
     "text": [
      "Precision= 0.7877083112196157\n",
      "Recall= 0.36764013772262266\n"
     ]
    }
   ],
   "source": [
    "tp=fn=fp=fn=0\n",
    "for i in range(0,nUsers):\n",
    "    for j in range(0, nItems):\n",
    "        rhat=predict (i,j,arr2, similarUsers, similarities)\n",
    "        if rhat>=7 and arr2[i,j]>=7:\n",
    "            tp=tp+1\n",
    "        elif rhat>=7 and arr2[i,j]<7:\n",
    "            fp=fp+1\n",
    "        elif rhat<7 and arr2[i,j]>=7:\n",
    "            fn=fn+1\n",
    "            \n",
    "            \n",
    "precision=tp/(tp+fp)\n",
    "recall = tp/(tp+fn)\n",
    "\n",
    "\n",
    "print ('Precision=',precision)\n",
    "print ('Recall=',recall)"
   ]
  },
  {
   "cell_type": "code",
   "execution_count": 47,
   "id": "f82f0142",
   "metadata": {},
   "outputs": [
    {
     "name": "stdout",
     "output_type": "stream",
     "text": [
      "F1= 0.5013088342087042\n"
     ]
    }
   ],
   "source": [
    "if precision != 0 and recall != 0:\n",
    "    f1 = 2 * precision * recall / (precision + recall)\n",
    "    print('F1=', f1)"
   ]
  },
  {
   "cell_type": "code",
   "execution_count": 48,
   "id": "aaffaac5",
   "metadata": {},
   "outputs": [
    {
     "name": "stdout",
     "output_type": "stream",
     "text": [
      "All Together:\n",
      "Mean Absolute Error (MAE)= 0.019048467861562543\n",
      "Mean Squared Error (RMSE)= 0.377224600050466\n",
      "Precision= 0.7877083112196157\n",
      "Recall= 0.36764013772262266\n",
      "F1= 0.5013088342087042\n"
     ]
    }
   ],
   "source": [
    "print('All Together:')\n",
    "\n",
    "print ('Mean Absolute Error (MAE)=',mae)\n",
    "print ('Mean Squared Error (RMSE)=',rmse)\n",
    "print ('Precision=',precision)\n",
    "print ('Recall=',recall)\n",
    "print('F1=', f1)"
   ]
  },
  {
   "cell_type": "markdown",
   "id": "29893379",
   "metadata": {},
   "source": [
    "The Recall might be still low but at least from the books retrieved close to 80% are relevant. Definitely a huge improvement. This also shows on MAE and RMSE scores that are lower."
   ]
  },
  {
   "cell_type": "markdown",
   "id": "104b36c1",
   "metadata": {},
   "source": [
    "# The results are still not good but better compared to our old dataset and model\n",
    "\n",
    "We cleaned our data including explicit ratings and tuned the parameters.For the precision and recall we choose to retrieve books with ratings >7 and it works better that way.Adjusting the k neighbors to more than 1 didn't make any significant difference "
   ]
  },
  {
   "cell_type": "markdown",
   "id": "2631f7dd",
   "metadata": {},
   "source": [
    "# Q2: Recommender System: Improving the recommendation-algorithms: 15%"
   ]
  },
  {
   "cell_type": "markdown",
   "id": "14dbecb7",
   "metadata": {},
   "source": [
    "We will try the SVD and NMF algorithms in this section and see if we can retrieve better results"
   ]
  },
  {
   "cell_type": "code",
   "execution_count": 49,
   "id": "8f1c4b18",
   "metadata": {},
   "outputs": [],
   "source": [
    "from surprise import Reader, Dataset"
   ]
  },
  {
   "cell_type": "code",
   "execution_count": 50,
   "id": "d4f3789a",
   "metadata": {},
   "outputs": [
    {
     "data": {
      "text/html": [
       "<div>\n",
       "<style scoped>\n",
       "    .dataframe tbody tr th:only-of-type {\n",
       "        vertical-align: middle;\n",
       "    }\n",
       "\n",
       "    .dataframe tbody tr th {\n",
       "        vertical-align: top;\n",
       "    }\n",
       "\n",
       "    .dataframe thead th {\n",
       "        text-align: right;\n",
       "    }\n",
       "</style>\n",
       "<table border=\"1\" class=\"dataframe\">\n",
       "  <thead>\n",
       "    <tr style=\"text-align: right;\">\n",
       "      <th></th>\n",
       "      <th>userID</th>\n",
       "      <th>ISBN</th>\n",
       "      <th>bookRating</th>\n",
       "      <th>bookTitle</th>\n",
       "      <th>totalRatingCount</th>\n",
       "      <th>Location</th>\n",
       "      <th>Age</th>\n",
       "    </tr>\n",
       "  </thead>\n",
       "  <tbody>\n",
       "    <tr>\n",
       "      <th>0</th>\n",
       "      <td>276727</td>\n",
       "      <td>0446520802</td>\n",
       "      <td>0</td>\n",
       "      <td>The Notebook</td>\n",
       "      <td>650</td>\n",
       "      <td>h, new south wales, australia</td>\n",
       "      <td>16.0</td>\n",
       "    </tr>\n",
       "    <tr>\n",
       "      <th>2</th>\n",
       "      <td>638</td>\n",
       "      <td>0446520802</td>\n",
       "      <td>0</td>\n",
       "      <td>The Notebook</td>\n",
       "      <td>650</td>\n",
       "      <td>san diego, california, usa</td>\n",
       "      <td>20.0</td>\n",
       "    </tr>\n",
       "    <tr>\n",
       "      <th>3</th>\n",
       "      <td>3363</td>\n",
       "      <td>0446520802</td>\n",
       "      <td>0</td>\n",
       "      <td>The Notebook</td>\n",
       "      <td>650</td>\n",
       "      <td>knoxville, tennessee, usa</td>\n",
       "      <td>29.0</td>\n",
       "    </tr>\n",
       "    <tr>\n",
       "      <th>4</th>\n",
       "      <td>7158</td>\n",
       "      <td>0446520802</td>\n",
       "      <td>10</td>\n",
       "      <td>The Notebook</td>\n",
       "      <td>650</td>\n",
       "      <td>omaha, nebraska, usa</td>\n",
       "      <td>30.0</td>\n",
       "    </tr>\n",
       "    <tr>\n",
       "      <th>5</th>\n",
       "      <td>8253</td>\n",
       "      <td>0446520802</td>\n",
       "      <td>10</td>\n",
       "      <td>The Notebook</td>\n",
       "      <td>650</td>\n",
       "      <td>tulsa, oklahoma, usa</td>\n",
       "      <td>26.0</td>\n",
       "    </tr>\n",
       "  </tbody>\n",
       "</table>\n",
       "</div>"
      ],
      "text/plain": [
       "   userID        ISBN  bookRating     bookTitle  totalRatingCount  \\\n",
       "0  276727  0446520802           0  The Notebook               650   \n",
       "2     638  0446520802           0  The Notebook               650   \n",
       "3    3363  0446520802           0  The Notebook               650   \n",
       "4    7158  0446520802          10  The Notebook               650   \n",
       "5    8253  0446520802          10  The Notebook               650   \n",
       "\n",
       "                        Location   Age  \n",
       "0  h, new south wales, australia  16.0  \n",
       "2     san diego, california, usa  20.0  \n",
       "3      knoxville, tennessee, usa  29.0  \n",
       "4           omaha, nebraska, usa  30.0  \n",
       "5           tulsa, oklahoma, usa  26.0  "
      ]
     },
     "execution_count": 50,
     "metadata": {},
     "output_type": "execute_result"
    }
   ],
   "source": [
    "usa_ratings.head()"
   ]
  },
  {
   "cell_type": "code",
   "execution_count": 51,
   "id": "5d6e675c",
   "metadata": {},
   "outputs": [
    {
     "data": {
      "text/html": [
       "<div>\n",
       "<style scoped>\n",
       "    .dataframe tbody tr th:only-of-type {\n",
       "        vertical-align: middle;\n",
       "    }\n",
       "\n",
       "    .dataframe tbody tr th {\n",
       "        vertical-align: top;\n",
       "    }\n",
       "\n",
       "    .dataframe thead th {\n",
       "        text-align: right;\n",
       "    }\n",
       "</style>\n",
       "<table border=\"1\" class=\"dataframe\">\n",
       "  <thead>\n",
       "    <tr style=\"text-align: right;\">\n",
       "      <th></th>\n",
       "      <th>userID</th>\n",
       "      <th>ISBN</th>\n",
       "      <th>bookRating</th>\n",
       "    </tr>\n",
       "  </thead>\n",
       "  <tbody>\n",
       "    <tr>\n",
       "      <th>4</th>\n",
       "      <td>7158</td>\n",
       "      <td>0446520802</td>\n",
       "      <td>10</td>\n",
       "    </tr>\n",
       "    <tr>\n",
       "      <th>5</th>\n",
       "      <td>8253</td>\n",
       "      <td>0446520802</td>\n",
       "      <td>10</td>\n",
       "    </tr>\n",
       "    <tr>\n",
       "      <th>11</th>\n",
       "      <td>19371</td>\n",
       "      <td>0446520802</td>\n",
       "      <td>4</td>\n",
       "    </tr>\n",
       "    <tr>\n",
       "      <th>12</th>\n",
       "      <td>23768</td>\n",
       "      <td>0446520802</td>\n",
       "      <td>6</td>\n",
       "    </tr>\n",
       "    <tr>\n",
       "      <th>14</th>\n",
       "      <td>26525</td>\n",
       "      <td>0446520802</td>\n",
       "      <td>10</td>\n",
       "    </tr>\n",
       "  </tbody>\n",
       "</table>\n",
       "</div>"
      ],
      "text/plain": [
       "    userID        ISBN  bookRating\n",
       "4     7158  0446520802          10\n",
       "5     8253  0446520802          10\n",
       "11   19371  0446520802           4\n",
       "12   23768  0446520802           6\n",
       "14   26525  0446520802          10"
      ]
     },
     "execution_count": 51,
     "metadata": {},
     "output_type": "execute_result"
    }
   ],
   "source": [
    "user_item_rating = usa_ratings_No0[['userID', 'ISBN', 'bookRating']]\n",
    "user_item_rating.head()"
   ]
  },
  {
   "cell_type": "code",
   "execution_count": 52,
   "id": "dd644943",
   "metadata": {},
   "outputs": [],
   "source": [
    "# First need to create a 'Reader' object to set the scale/limit of the ratings field\n",
    "reader = Reader(rating_scale=(1, 10))\n",
    "\n",
    "# Load the data into a 'Dataset' object directly from the pandas df.\n",
    "# Note: The fields must be in the order: user, item, rating\n",
    "data = Dataset.load_from_df(user_item_rating, reader)\n",
    "\n"
   ]
  },
  {
   "cell_type": "code",
   "execution_count": 53,
   "id": "e0dae042",
   "metadata": {},
   "outputs": [],
   "source": [
    "# Load the models and 'evaluation' method\n",
    "from surprise import SVD, NMF, model_selection, accuracy"
   ]
  },
  {
   "cell_type": "code",
   "execution_count": 54,
   "id": "30999c2b",
   "metadata": {},
   "outputs": [
    {
     "name": "stdout",
     "output_type": "stream",
     "text": [
      "Evaluating RMSE of algorithm SVD on 5 split(s).\n",
      "\n",
      "                  Fold 1  Fold 2  Fold 3  Fold 4  Fold 5  Mean    Std     \n",
      "RMSE (testset)    1.6064  1.6311  1.5779  1.5901  1.5797  1.5970  0.0198  \n",
      "Fit time          0.58    0.60    0.60    0.60    0.60    0.60    0.01    \n",
      "Test time         0.07    0.06    0.06    0.07    0.14    0.08    0.03    \n",
      "CPU times: total: 3.95 s\n",
      "Wall time: 3.97 s\n"
     ]
    },
    {
     "data": {
      "text/plain": [
       "{'test_rmse': array([1.60642011, 1.63107602, 1.57789615, 1.59009538, 1.57965976]),\n",
       " 'fit_time': (0.5822703838348389,\n",
       "  0.6041688919067383,\n",
       "  0.5972130298614502,\n",
       "  0.5954370498657227,\n",
       "  0.5967998504638672),\n",
       " 'test_time': (0.06694531440734863,\n",
       "  0.06491541862487793,\n",
       "  0.06493377685546875,\n",
       "  0.06504940986633301,\n",
       "  0.14286041259765625)}"
      ]
     },
     "execution_count": 54,
     "metadata": {},
     "output_type": "execute_result"
    }
   ],
   "source": [
    "# Load SVD algorithm\n",
    "model = SVD()\n",
    "\n",
    "# Train on books dataset\n",
    "%time model_selection.cross_validate(model, data, measures=['RMSE'], cv=5, verbose=True)"
   ]
  },
  {
   "cell_type": "markdown",
   "id": "e698d7e4",
   "metadata": {},
   "source": [
    "The SVD Model gave a worse RMSE of 1.60 compared to our previous algorithm with a result of 0.38\n",
    "\n"
   ]
  },
  {
   "cell_type": "code",
   "execution_count": 55,
   "id": "6a2b2850",
   "metadata": {
    "scrolled": true
   },
   "outputs": [
    {
     "name": "stdout",
     "output_type": "stream",
     "text": [
      "Evaluating RMSE of algorithm NMF on 5 split(s).\n",
      "\n",
      "                  Fold 1  Fold 2  Fold 3  Fold 4  Fold 5  Mean    Std     \n",
      "RMSE (testset)    2.5339  2.5514  2.5454  2.5441  2.5307  2.5411  0.0077  \n",
      "Fit time          1.70    1.70    1.70    1.70    1.71    1.70    0.00    \n",
      "Test time         0.06    0.06    0.06    0.06    0.06    0.06    0.00    \n",
      "CPU times: total: 9.34 s\n",
      "Wall time: 9.4 s\n"
     ]
    },
    {
     "data": {
      "text/plain": [
       "{'test_rmse': array([2.53391677, 2.55135982, 2.54538088, 2.54411718, 2.53067559]),\n",
       " 'fit_time': (1.7007017135620117,\n",
       "  1.7028319835662842,\n",
       "  1.701348066329956,\n",
       "  1.703744888305664,\n",
       "  1.706773042678833),\n",
       " 'test_time': (0.05892658233642578,\n",
       "  0.05794072151184082,\n",
       "  0.05694174766540527,\n",
       "  0.05794119834899902,\n",
       "  0.05894017219543457)}"
      ]
     },
     "execution_count": 55,
     "metadata": {},
     "output_type": "execute_result"
    }
   ],
   "source": [
    "# Load NMF algorithm\n",
    "model = NMF()\n",
    "# Train on books dataset\n",
    "%time model_selection.cross_validate(model, data, measures=['RMSE'], cv=5, verbose=True)"
   ]
  },
  {
   "cell_type": "markdown",
   "id": "13f6f9d1",
   "metadata": {},
   "source": [
    "The NMF Model gave a way worse RMSE of 2.54 compared to our previous algorithm with a result of 1.59"
   ]
  },
  {
   "cell_type": "markdown",
   "id": "cf424d91",
   "metadata": {},
   "source": [
    "# Conclusion\n",
    "\n",
    "To conclude, among the different approaches that were investigated, the best algorithm for RMSE is the first manual one with the K-Neighbors. The Precision/Recall and F1 scores were not as good as we expected at first but after some data cleaning and tuning, the results were way better.The SVD and NMF models weren't better.There is still room for improvement thought and if we had more time, we should make better data cleaning adjustments or choose a different segment of it. \n",
    "\n",
    "We faced few difficulties with the memory thus, we were forced to choose a way smaller dataset due to resource limitations in pandas. But in the end, we managed to make our predictions of book titles to users. If we had more time, we could use more specific segmentations and see if the models work better.\n",
    "\n",
    "Lastly, it’s important to mention that all models took about the same time to run which was considerable fast.  \n",
    "\n"
   ]
  },
  {
   "cell_type": "code",
   "execution_count": null,
   "id": "59dcb5d7",
   "metadata": {},
   "outputs": [],
   "source": []
  }
 ],
 "metadata": {
  "kernelspec": {
   "display_name": "Python 3 (ipykernel)",
   "language": "python",
   "name": "python3"
  },
  "language_info": {
   "codemirror_mode": {
    "name": "ipython",
    "version": 3
   },
   "file_extension": ".py",
   "mimetype": "text/x-python",
   "name": "python",
   "nbconvert_exporter": "python",
   "pygments_lexer": "ipython3",
   "version": "3.9.12"
  }
 },
 "nbformat": 4,
 "nbformat_minor": 5
}
